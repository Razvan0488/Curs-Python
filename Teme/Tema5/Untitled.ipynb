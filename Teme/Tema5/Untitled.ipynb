{
 "cells": [
  {
   "cell_type": "code",
   "execution_count": 2,
   "id": "86350f03",
   "metadata": {},
   "outputs": [
    {
     "data": {
      "text/plain": [
       "6"
      ]
     },
     "execution_count": 2,
     "metadata": {},
     "output_type": "execute_result"
    }
   ],
   "source": [
    "#1. Functie care sa calculeze si sa returneze suma a 2 numere\n",
    "def sum(nr1,nr2):\n",
    "    return nr1+nr2\n",
    "sum(2,4)"
   ]
  },
  {
   "cell_type": "code",
   "execution_count": 7,
   "id": "85417d8b",
   "metadata": {},
   "outputs": [
    {
     "data": {
      "text/plain": [
       "True"
      ]
     },
     "execution_count": 7,
     "metadata": {},
     "output_type": "execute_result"
    }
   ],
   "source": [
    "#2. Functie care sa returneze TRUE daca un numar este par, FALSE pt impar\n",
    "def adevar(nr):\n",
    "    if nr%2==0:\n",
    "        return True\n",
    "    else:\n",
    "        return False\n",
    "adevar(4)"
   ]
  },
  {
   "cell_type": "code",
   "execution_count": 11,
   "id": "0e103479",
   "metadata": {},
   "outputs": [
    {
     "data": {
      "text/plain": [
       "20"
      ]
     },
     "execution_count": 11,
     "metadata": {},
     "output_type": "execute_result"
    }
   ],
   "source": [
    "#3. Functie care returneaza numarul total de caractere din numele tau complet.(nume, prenume, nume_mijlociu)\n",
    "def count_char(nume,prenume,domiciliu):\n",
    "    return len(nume)+len(prenume)+len(domiciliu)\n",
    "count_char('cuciureanu','razvan','iasi')"
   ]
  },
  {
   "cell_type": "code",
   "execution_count": 13,
   "id": "9e78e3f5",
   "metadata": {},
   "outputs": [
    {
     "data": {
      "text/plain": [
       "16"
      ]
     },
     "execution_count": 13,
     "metadata": {},
     "output_type": "execute_result"
    }
   ],
   "source": [
    "#4. Functie care returneaza aria dreptunghiului\n",
    "def arie_dreptunghi(lungime,latime):\n",
    "    return lungime*latime\n",
    "arie(2,8)"
   ]
  },
  {
   "cell_type": "code",
   "execution_count": 16,
   "id": "78bebba1",
   "metadata": {},
   "outputs": [
    {
     "data": {
      "text/plain": [
       "28.26"
      ]
     },
     "execution_count": 16,
     "metadata": {},
     "output_type": "execute_result"
    }
   ],
   "source": [
    "#5. Functie care returneaza aria cercului\n",
    "def arie_cerc(raza):\n",
    "    return 3.14*(raza**2)\n",
    "arie_cerc(3)"
   ]
  },
  {
   "cell_type": "code",
   "execution_count": 21,
   "id": "d0b434e0",
   "metadata": {},
   "outputs": [
    {
     "data": {
      "text/plain": [
       "False"
      ]
     },
     "execution_count": 21,
     "metadata": {},
     "output_type": "execute_result"
    }
   ],
   "source": [
    "#6. Functie care returneaza True daca un caracter x se gaseste intr-un string dat. Fasle daca nu\n",
    "def verif_caracter(caracter,string):\n",
    "    if caracter in string:\n",
    "        return True\n",
    "    else:\n",
    "        return False\n",
    "verif_caracter('d','Ala bala')\n",
    "    "
   ]
  },
  {
   "cell_type": "code",
   "execution_count": 27,
   "id": "44d14a13",
   "metadata": {},
   "outputs": [
    {
     "name": "stdout",
     "output_type": "stream",
     "text": [
      "{6}\n",
      "{1}\n"
     ]
    }
   ],
   "source": [
    "#7. Functie fara return, primeste un string si printeaza pe ecran:\n",
    "#-Nr de caractere lower case este x\n",
    "#-Nr de caractere upper case exte y \n",
    "def count_caractere(string):\n",
    "    count_lower=0\n",
    "    count_upper=0\n",
    "    for caracter in string:\n",
    "        if caracter.islower():\n",
    "            count_lower =count_lower+1\n",
    "        else:\n",
    "            if caracter.isupper():\n",
    "                count_upper =count_upper+1\n",
    "    print({count_lower})\n",
    "    print({count_upper})\n",
    "count_caractere('Ala bala')\n"
   ]
  },
  {
   "cell_type": "code",
   "execution_count": 36,
   "id": "405ed246",
   "metadata": {},
   "outputs": [
    {
     "data": {
      "text/plain": [
       "[1, 3, 4]"
      ]
     },
     "execution_count": 36,
     "metadata": {},
     "output_type": "execute_result"
    }
   ],
   "source": [
    "#8. Functie care primeste o LISTA de numere si returneaza o LISTA doar cu numerele pozitive\n",
    "def lista_numere(lista):\n",
    "    lista1=[]\n",
    "    for elem in lista:\n",
    "        if elem>0:\n",
    "            lista1.append(elem)\n",
    "    return lista1\n",
    "lista_numere([1,-2,3,4])"
   ]
  },
  {
   "cell_type": "code",
   "execution_count": 40,
   "id": "bda3728d",
   "metadata": {},
   "outputs": [
    {
     "name": "stdout",
     "output_type": "stream",
     "text": [
      "Primul numar 4 este mai mare decat al doilea numar 3\n"
     ]
    }
   ],
   "source": [
    "####9. Functie care nu returneaza nimic. Primeste 2 numere si PRINTEAZA\n",
    "#Primul numar x este mai mare decat al doilea nr y\n",
    "#Al doilea nr y este mai mare decat primul nr x\n",
    "#Numerele sunt egale. \n",
    "def numere(x,y):\n",
    "    if x>y:\n",
    "        print(f'Primul numar {x} este mai mare decat al doilea numar {y}')\n",
    "    else:\n",
    "        if x<y:\n",
    "            print(f'Al doilea numar {y} este mai mare decat primul numar {x}')\n",
    "        else:\n",
    "            print('NUmerele sunt egale')\n",
    "numere(4,3)"
   ]
  },
  {
   "cell_type": "code",
   "execution_count": 44,
   "id": "e109f4ba",
   "metadata": {},
   "outputs": [
    {
     "name": "stdout",
     "output_type": "stream",
     "text": [
      "Am adaugat numarul in set\n"
     ]
    },
    {
     "data": {
      "text/plain": [
       "True"
      ]
     },
     "execution_count": 44,
     "metadata": {},
     "output_type": "execute_result"
    }
   ],
   "source": [
    "####10. Functie care primeste un numar si un set de numere.\n",
    "#Printeaza ‘am adaugat numarul nou in set’ + returneaza True\n",
    "#Sau Printeaza ‘nu am adaugat numarul in set. Acesta exista deja’ + returneaza False\n",
    "def numere_set (nr,setul):\n",
    "    if nr in setul:\n",
    "        print(f'Nu am adaugat numarul in set.Acesta exista deja')\n",
    "        return False\n",
    "    else:\n",
    "        setul.add(nr)\n",
    "        print('Am adaugat numarul in set')\n",
    "        return True\n",
    "numere_set(7,{1,2,3,4,5})"
   ]
  },
  {
   "cell_type": "code",
   "execution_count": null,
   "id": "15182030",
   "metadata": {},
   "outputs": [],
   "source": []
  }
 ],
 "metadata": {
  "kernelspec": {
   "display_name": "Python 3 (ipykernel)",
   "language": "python",
   "name": "python3"
  },
  "language_info": {
   "codemirror_mode": {
    "name": "ipython",
    "version": 3
   },
   "file_extension": ".py",
   "mimetype": "text/x-python",
   "name": "python",
   "nbconvert_exporter": "python",
   "pygments_lexer": "ipython3",
   "version": "3.10.7"
  }
 },
 "nbformat": 4,
 "nbformat_minor": 5
}
