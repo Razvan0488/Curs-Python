{
 "cells": [
  {
   "cell_type": "code",
   "execution_count": 3,
   "id": "0d18b7df",
   "metadata": {},
   "outputs": [
    {
     "name": "stdout",
     "output_type": "stream",
     "text": [
      "Masina mea preferata este Audi\n",
      "Masina mea preferata este Volvo\n",
      "Masina mea preferata este BMW\n",
      "Masina mea preferata este Mercedes\n",
      "Masina mea preferata este Aston Martin\n",
      "Masina mea preferata este Lastun\n",
      "Masina mea preferata este Fiat\n",
      "Masina mea preferata este Trabant\n",
      "Masina mea preferata este Opel\n"
     ]
    }
   ],
   "source": [
    "'''#1 Avand lista \n",
    "masini = ['Audi', 'Volvo', 'BMW', 'Mercedes', 'Aston Martin', 'Lastun', 'Fiat', 'Trabant', 'Opel']\n",
    "a)a)\tFolositi un for ca sa iterati prin toata lista cu ajutorul indexilor si sa afisati\n",
    "‘Masina mea preferata este x’\n",
    "\n",
    "'''\n",
    "masini=['Audi','Volvo','BMW','Mercedes','Aston Martin','Lastun','Fiat','Trabant','Opel']\n",
    "for element in masini:\n",
    "    print(f'Masina mea preferata este {element}')"
   ]
  },
  {
   "cell_type": "code",
   "execution_count": 5,
   "id": "db5613bf",
   "metadata": {},
   "outputs": [
    {
     "name": "stdout",
     "output_type": "stream",
     "text": [
      "Masina mea preferata este Audi\n",
      "Masina mea preferata este Volvo\n",
      "Masina mea preferata este BMW\n",
      "Masina mea preferata este Mercedes\n",
      "Masina mea preferata este Aston Martin\n",
      "Masina mea preferata este Lastun\n",
      "Masina mea preferata este Fiat\n",
      "Masina mea preferata este Trabant\n",
      "Masina mea preferata este Opel\n",
      "Am terminat masinile preferate\n"
     ]
    }
   ],
   "source": [
    "# b)\tFaceti acelasi lucru cu un for each\n",
    "masini=['Audi','Volvo','BMW','Mercedes','Aston Martin','Lastun','Fiat','Trabant','Opel']\n",
    "for element in masini:\n",
    "    print(f'Masina mea preferata este {element}')\n",
    "else:\n",
    "    print('Am terminat masinile preferate')"
   ]
  },
  {
   "cell_type": "code",
   "execution_count": 12,
   "id": "ccd64937",
   "metadata": {},
   "outputs": [
    {
     "name": "stdout",
     "output_type": "stream",
     "text": [
      "Masina mea preferata este Audi\n",
      "Masina mea preferata este Volvo\n",
      "Masina mea preferata este BMW\n",
      "Masina mea preferata este Mercedes\n",
      "Masina mea preferata este Aston Martin\n",
      "Masina mea preferata este Lastun\n",
      "Masina mea preferata este Fiat\n",
      "Masina mea preferata este Trabant\n",
      "Masina mea preferata este Opel\n",
      "Am terminat cu masinile preferate\n"
     ]
    }
   ],
   "source": [
    "#c)\tFaceti acelasi lucru cu un while\n",
    "masini=['Audi','Volvo','BMW','Mercedes','Aston Martin','Lastun','Fiat','Trabant','Opel']\n",
    "poz=0\n",
    "while poz<len(masini):\n",
    "    print(f'Masina mea preferata este {masini[poz]}')\n",
    "    poz=poz+1\n",
    "else:\n",
    "    print(f'Am terminat cu masinile preferate')"
   ]
  },
  {
   "cell_type": "code",
   "execution_count": 14,
   "id": "fb4cf915",
   "metadata": {},
   "outputs": [
    {
     "ename": "SyntaxError",
     "evalue": "incomplete input (4078382726.py, line 11)",
     "output_type": "error",
     "traceback": [
      "\u001b[1;36m  Cell \u001b[1;32mIn [14], line 11\u001b[1;36m\u001b[0m\n\u001b[1;33m    \u001b[0m\n\u001b[1;37m    ^\u001b[0m\n\u001b[1;31mSyntaxError\u001b[0m\u001b[1;31m:\u001b[0m incomplete input\n"
     ]
    }
   ],
   "source": [
    "'''#2.\n",
    "Aceeasi lista\n",
    "Folositi un for in for\n",
    "   Modificati elementele din lista astfel incat sa fie scrie cu majuscule, exceptand primul si ultimul (v1 - caracter, v2 - element)\n",
    "Printati varianta finala a listei\n",
    "Incercati sa rezolvati atat v1 => output: ['aUDi', 'vOLVo', 'bMw', 'mERCEDEs', 'aSTON MARTIn', 'lASTUn', 'fIAt', 'tRABANt', 'oPEl']\n",
    "Cat si v2 => output: ['audi', 'VOLVO', 'BMW', 'MERCEDES', 'ASTON MARTIN', 'LASTUN', 'FIAT', 'TRABANT', 'opel']\n",
    "'''\n",
    "masini=['Audi','Volvo','BMW','Mercedes','Aston Martin','Lastun','Fiat','Trabant','Opel']\n",
    "for masina in masini:\n",
    "    for masina1 in v1:"
   ]
  },
  {
   "cell_type": "code",
   "execution_count": 16,
   "id": "5b60cebc",
   "metadata": {},
   "outputs": [
    {
     "name": "stdout",
     "output_type": "stream",
     "text": [
      "Nu am gasit masina dvs.Mai cautam\n",
      "Nu am gasit masina dvs.Mai cautam\n",
      "Nu am gasit masina dvs.Mai cautam\n",
      "Am gasit masina dorita de dvs\n"
     ]
    }
   ],
   "source": [
    "'''3. \n",
    "Aceeasi lista, \n",
    "Vine un cumparator care doreste sa cumpere un Mercedes\n",
    "Iterati prin ea cu for\n",
    "Daca masina e mercedes (if)\n",
    "   Printam ‘am gasit masina dorita de dvs’\n",
    "   Iesim din ciclu folosind un cuvant cheie care face acest lucru\n",
    "Altfel:   \n",
    "   Printam Am gasit masina X. Mai cautam\n",
    "'''\n",
    "masini=['Audi','Volvo','BMW','Mercedes','Aston Martin','Lastun','Fiat','Trabant','Opel']\n",
    "for masina in masini:\n",
    "    if masina=='Mercedes':\n",
    "        print('Am gasit masina dorita de dvs')\n",
    "        break\n",
    "    else:\n",
    "        print(\"Nu am gasit masina dvs.Mai cautam\")"
   ]
  },
  {
   "cell_type": "code",
   "execution_count": null,
   "id": "16e5ca1e",
   "metadata": {},
   "outputs": [],
   "source": []
  }
 ],
 "metadata": {
  "kernelspec": {
   "display_name": "Python 3 (ipykernel)",
   "language": "python",
   "name": "python3"
  },
  "language_info": {
   "codemirror_mode": {
    "name": "ipython",
    "version": 3
   },
   "file_extension": ".py",
   "mimetype": "text/x-python",
   "name": "python",
   "nbconvert_exporter": "python",
   "pygments_lexer": "ipython3",
   "version": "3.10.7"
  }
 },
 "nbformat": 4,
 "nbformat_minor": 5
}
