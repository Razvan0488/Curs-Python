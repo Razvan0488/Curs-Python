{
 "cells": [
  {
   "cell_type": "code",
   "execution_count": 3,
   "id": "613c6361",
   "metadata": {},
   "outputs": [
    {
     "name": "stdout",
     "output_type": "stream",
     "text": [
      "x este un numar natural\n"
     ]
    }
   ],
   "source": [
    "#if else functioneaza astfel: evalueaza conditiile puse prin operatori si imparte codul in functie de rezultat\n",
    "\n",
    "#2.Verificati si afisati daca x este numar natural sau nu\n",
    "\n",
    "x=5\n",
    "if x>=0 :\n",
    "    print('x este un numar natural')\n",
    "else:\n",
    "    print('x nu este numar natural')"
   ]
  },
  {
   "cell_type": "code",
   "execution_count": 8,
   "id": "63b226f4",
   "metadata": {},
   "outputs": [
    {
     "name": "stdout",
     "output_type": "stream",
     "text": [
      "Introduceti x:0\n",
      "x este numar neutru\n"
     ]
    }
   ],
   "source": [
    "#3.Verificati si afisati daca x este numar pozitiv, negativ sau neutru\n",
    "x=input(\"Introduceti x:\")\n",
    "x=float(x)\n",
    "if x>0:\n",
    "    print(\"x este numar pozitiv\")\n",
    "elif x==0:\n",
    "    print(\"x este numar neutru\")\n",
    "else:\n",
    "    print(\"x este numar negativ\")"
   ]
  },
  {
   "cell_type": "code",
   "execution_count": 11,
   "id": "0db0a050",
   "metadata": {},
   "outputs": [
    {
     "name": "stdout",
     "output_type": "stream",
     "text": [
      "introduceti x:5\n",
      "x se afla intre intervalul -2 si 13\n"
     ]
    }
   ],
   "source": [
    "#4. Verificati si afisati daca x este intre -2 si 13\n",
    "x=input(\"introduceti x:\")\n",
    "x=float(x)\n",
    "if x>-2 and x<13:\n",
    "    print(\"x se afla intre intervalul -2 si 13\")\n",
    "else:\n",
    "    print(\"x nu se afla intre intervalul -2 si 13\")"
   ]
  },
  {
   "cell_type": "code",
   "execution_count": 17,
   "id": "9377c14c",
   "metadata": {},
   "outputs": [
    {
     "name": "stdout",
     "output_type": "stream",
     "text": [
      "introdu x:10\n",
      "introdu y:2\n",
      "dif nu este mai mica de 5\n"
     ]
    }
   ],
   "source": [
    "#5. Verificati si afisati daca diferenta dintre x si y este mai mica de 5\n",
    "x=input(\"introdu x:\")\n",
    "y=input(\"introdu y:\")\n",
    "x=float(x)\n",
    "y=float(y)\n",
    "if x>y:\n",
    "    if x-y<5:\n",
    "        print(\"dif este mai mica de 5\")\n",
    "    else:\n",
    "        print(\"dif nu este mai mica de 5\")\n",
    "elif x==y:\n",
    "    print(\"dif este mai mica de 5\")\n",
    "else:\n",
    "    if y-x<5:\n",
    "        print(\"dif este mai mica de 5\")\n",
    "    else:\n",
    "        print(\"dif nu este mai mica de 5\")"
   ]
  },
  {
   "cell_type": "code",
   "execution_count": 19,
   "id": "259799ed",
   "metadata": {},
   "outputs": [
    {
     "name": "stdout",
     "output_type": "stream",
     "text": [
      "Introdu x:3\n",
      "x nu este intre intervalul 5-27\n"
     ]
    }
   ],
   "source": [
    "#6. Verificati daca x NU este intre 5 si 27. (a se folosi ‘not’)\n",
    "x=input(\"Introdu x:\")\n",
    "x=float(x)\n",
    "if not(x>5 and x<27):\n",
    "    print(\"x nu este intre intervalul 5-27\")\n",
    "else:\n",
    "    print(\"x este intre intervalul 5-27\")"
   ]
  },
  {
   "cell_type": "code",
   "execution_count": 21,
   "id": "15e47b81",
   "metadata": {},
   "outputs": [
    {
     "name": "stdout",
     "output_type": "stream",
     "text": [
      "introdu x:3\n",
      "introdu y:3\n",
      "x=y\n"
     ]
    }
   ],
   "source": [
    "#x si y (int) Verificati si afisati daca sunt egale, daca nu afisati care din ele este mai mare\n",
    "x=input(\"introdu x:\")\n",
    "y=input(\"introdu y:\")\n",
    "x=float(x)\n",
    "y=float(y)\n",
    "if x>y:\n",
    "    print(\"x>y\")\n",
    "elif x==y:\n",
    "    print(\"x=y\")\n",
    "else:\n",
    "    print(\"x<y\")"
   ]
  },
  {
   "cell_type": "code",
   "execution_count": 28,
   "id": "0e57ef9c",
   "metadata": {},
   "outputs": [
    {
     "name": "stdout",
     "output_type": "stream",
     "text": [
      "x=1\n",
      "y=2\n",
      "z=2\n",
      "triunghiul este isoscel\n"
     ]
    }
   ],
   "source": [
    "#8. X, y, z - laturile unui triunghi.Afisati daca triunghiul este isoscel, echilateral sau oarecare.\n",
    "x=input(\"x=\")\n",
    "y=input(\"y=\")\n",
    "z=input(\"z=\")\n",
    "x=float(x)\n",
    "y=float(y)\n",
    "z=float(z)\n",
    "if x==y and x==z :\n",
    "    print(\"triunghiul este echilateral\")\n",
    "elif x==y or y==z or x==z:\n",
    "    print(\"triunghiul este isoscel\")\n",
    "else:\n",
    "    print(\"triunghiul este oarecare\")"
   ]
  },
  {
   "cell_type": "code",
   "execution_count": null,
   "id": "92399c84",
   "metadata": {},
   "outputs": [],
   "source": [
    "#9. Cititi o literax de la tastatura.Verificati si afisati daca este vocala sau nu\n",
    "litera=input(\"scrieti o litera:\")\n",
    "if "
   ]
  }
 ],
 "metadata": {
  "kernelspec": {
   "display_name": "Python 3 (ipykernel)",
   "language": "python",
   "name": "python3"
  },
  "language_info": {
   "codemirror_mode": {
    "name": "ipython",
    "version": 3
   },
   "file_extension": ".py",
   "mimetype": "text/x-python",
   "name": "python",
   "nbconvert_exporter": "python",
   "pygments_lexer": "ipython3",
   "version": "3.10.7"
  }
 },
 "nbformat": 4,
 "nbformat_minor": 5
}
